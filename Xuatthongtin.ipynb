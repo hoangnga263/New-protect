{
 "cells": [
  {
   "cell_type": "code",
   "execution_count": 2,
   "id": "5f449516",
   "metadata": {},
   "outputs": [
    {
     "name": "stdout",
     "output_type": "stream",
     "text": [
      "Họ và tên: Hoàng Thúy Nga\n"
     ]
    }
   ],
   "source": [
    "print('Họ và tên: Hoàng Thúy Nga')"
   ]
  },
  {
   "cell_type": "code",
   "execution_count": 3,
   "id": "46c1e6e3",
   "metadata": {},
   "outputs": [
    {
     "name": "stdout",
     "output_type": "stream",
     "text": [
      "Ngày sinh:26/3/1991\n"
     ]
    }
   ],
   "source": [
    "print('Ngày sinh:26/3/1991')"
   ]
  },
  {
   "cell_type": "code",
   "execution_count": null,
   "id": "6fecb051",
   "metadata": {},
   "outputs": [],
   "source": []
  }
 ],
 "metadata": {
  "kernelspec": {
   "display_name": "Python 3 (ipykernel)",
   "language": "python",
   "name": "python3"
  },
  "language_info": {
   "codemirror_mode": {
    "name": "ipython",
    "version": 3
   },
   "file_extension": ".py",
   "mimetype": "text/x-python",
   "name": "python",
   "nbconvert_exporter": "python",
   "pygments_lexer": "ipython3",
   "version": "3.9.7"
  }
 },
 "nbformat": 4,
 "nbformat_minor": 5
}
